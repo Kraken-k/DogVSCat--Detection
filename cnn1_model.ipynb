{
 "cells": [
  {
   "cell_type": "code",
   "execution_count": 11,
   "metadata": {},
   "outputs": [],
   "source": [
    "import tensorflow.compat.v1 as tf\n",
    "from keras.models import Sequential\n",
    "from keras.layers import Dense,Dropout,Activation,Flatten,Conv2D,MaxPooling2D\n",
    "import pickle\n",
    "from keras.preprocessing.image import ImageDataGenerator\n",
    "from keras.datasets import cifar10\n",
    "from keras.callbacks import TensorBoard\n",
    "import time\n",
    "import numpy as np\n",
    "import matplotlib.pyplot as plt\n",
    "import cv2"
   ]
  },
  {
   "cell_type": "code",
   "execution_count": 2,
   "metadata": {},
   "outputs": [],
   "source": [
    "NAME='Cats-vs-Dogs-cnn-64x2-{}'.format(int(time.time()))\n",
    "tensorboard=TensorBoard(log_dir='logs/{}'.format(NAME))"
   ]
  },
  {
   "cell_type": "code",
   "execution_count": 3,
   "metadata": {},
   "outputs": [],
   "source": [
    "gpu_options=tf.compat.v1.GPUOptions(per_process_gpu_memory_fraction=0.333)\n",
    "sess=tf.Session(config=tf.ConfigProto(gpu_options=gpu_options))\n"
   ]
  },
  {
   "cell_type": "code",
   "execution_count": 5,
   "metadata": {},
   "outputs": [
    {
     "name": "stdout",
     "output_type": "stream",
     "text": [
      "Epoch 1/10\n",
      "701/701 [==============================] - 87s 121ms/step - loss: 0.6291 - accuracy: 0.6427 - val_loss: 0.5978 - val_accuracy: 0.6742\n",
      "Epoch 2/10\n",
      "701/701 [==============================] - 107s 152ms/step - loss: 0.5244 - accuracy: 0.7396 - val_loss: 0.5372 - val_accuracy: 0.7420\n",
      "Epoch 3/10\n",
      "701/701 [==============================] - 117s 167ms/step - loss: 0.4763 - accuracy: 0.7734 - val_loss: 0.5222 - val_accuracy: 0.7604\n",
      "Epoch 4/10\n",
      "701/701 [==============================] - 110s 157ms/step - loss: 0.4392 - accuracy: 0.7955 - val_loss: 0.4838 - val_accuracy: 0.7753\n",
      "Epoch 5/10\n",
      "701/701 [==============================] - 90s 129ms/step - loss: 0.4026 - accuracy: 0.8157 - val_loss: 0.4740 - val_accuracy: 0.7721\n",
      "Epoch 6/10\n",
      "701/701 [==============================] - 98s 140ms/step - loss: 0.3612 - accuracy: 0.8383 - val_loss: 0.4737 - val_accuracy: 0.7869\n",
      "Epoch 7/10\n",
      "701/701 [==============================] - 98s 140ms/step - loss: 0.3258 - accuracy: 0.8558 - val_loss: 0.4824 - val_accuracy: 0.7877\n",
      "Epoch 8/10\n",
      "701/701 [==============================] - 95s 136ms/step - loss: 0.2844 - accuracy: 0.8779 - val_loss: 0.5077 - val_accuracy: 0.7845\n",
      "Epoch 9/10\n",
      "701/701 [==============================] - 90s 129ms/step - loss: 0.2459 - accuracy: 0.8976 - val_loss: 0.5192 - val_accuracy: 0.7877\n",
      "Epoch 10/10\n",
      "701/701 [==============================] - 96s 137ms/step - loss: 0.2061 - accuracy: 0.9143 - val_loss: 0.5801 - val_accuracy: 0.7833\n"
     ]
    },
    {
     "name": "stderr",
     "output_type": "stream",
     "text": [
      "WARNING:absl:Found untraced functions such as _jit_compiled_convolution_op, _jit_compiled_convolution_op while saving (showing 2 of 2). These functions will not be directly callable after loading.\n"
     ]
    },
    {
     "name": "stdout",
     "output_type": "stream",
     "text": [
      "INFO:tensorflow:Assets written to: piyushdvc.model\\assets\n"
     ]
    },
    {
     "name": "stderr",
     "output_type": "stream",
     "text": [
      "INFO:tensorflow:Assets written to: piyushdvc.model\\assets\n"
     ]
    }
   ],
   "source": [
    "X=pickle.load(open(\"X.pickle\",\"rb\"))\n",
    "y=pickle.load(open(\"y.pickle\",\"rb\"))\n",
    "\n",
    "X=X/255.0\n",
    "model=Sequential()\n",
    "model.add(Conv2D((64),(3,3),input_shape=X.shape[1:]))\n",
    "model.add(Activation(\"relu\"))\n",
    "model.add(MaxPooling2D(pool_size=(2,2)))\n",
    "\n",
    "model.add(Conv2D((64),(3,3)))\n",
    "model.add(Activation(\"relu\"))\n",
    "model.add(MaxPooling2D(pool_size=(2,2)))\n",
    "\n",
    "model.add(Flatten())\n",
    "model.add(Dense(64))\n",
    "model.add(Activation(\"relu\"))\n",
    "model.add(Dense(1))\n",
    "model.add(Activation(\"sigmoid\"))\n",
    "\n",
    "model.compile(loss=\"binary_crossentropy\",\n",
    "              optimizer=\"adam\",\n",
    "              metrics=[\"accuracy\"])\n",
    "\n",
    "model.fit(X,y,batch_size=32,epochs=10,validation_split=0.1,callbacks=[tensorboard])\n",
    "\n",
    "\n",
    "\n"
   ]
  },
  {
   "cell_type": "code",
   "execution_count": 8,
   "metadata": {},
   "outputs": [
    {
     "name": "stderr",
     "output_type": "stream",
     "text": [
      "WARNING:absl:Found untraced functions such as _jit_compiled_convolution_op, _jit_compiled_convolution_op while saving (showing 2 of 2). These functions will not be directly callable after loading.\n"
     ]
    },
    {
     "name": "stdout",
     "output_type": "stream",
     "text": [
      "INFO:tensorflow:Assets written to: 64x3-CNN.model\\assets\n"
     ]
    },
    {
     "name": "stderr",
     "output_type": "stream",
     "text": [
      "INFO:tensorflow:Assets written to: 64x3-CNN.model\\assets\n"
     ]
    }
   ],
   "source": [
    "\n",
    "model.save('64x3-CNN.model')"
   ]
  }
 ],
 "metadata": {
  "kernelspec": {
   "display_name": "Python 3.10.5 64-bit",
   "language": "python",
   "name": "python3"
  },
  "language_info": {
   "codemirror_mode": {
    "name": "ipython",
    "version": 3
   },
   "file_extension": ".py",
   "mimetype": "text/x-python",
   "name": "python",
   "nbconvert_exporter": "python",
   "pygments_lexer": "ipython3",
   "version": "3.10.5"
  },
  "orig_nbformat": 4,
  "vscode": {
   "interpreter": {
    "hash": "26de051ba29f2982a8de78e945f0abaf191376122a1563185a90213a26c5da77"
   }
  }
 },
 "nbformat": 4,
 "nbformat_minor": 2
}
